{
  "nbformat": 4,
  "nbformat_minor": 0,
  "metadata": {
    "colab": {
      "provenance": []
    },
    "kernelspec": {
      "name": "python3",
      "display_name": "Python 3"
    },
    "language_info": {
      "name": "python"
    }
  },
  "cells": [
    {
      "cell_type": "code",
      "execution_count": 8,
      "metadata": {
        "id": "S574Fns6Gzd9"
      },
      "outputs": [],
      "source": [
        "import random"
      ]
    },
    {
      "cell_type": "code",
      "source": [
        "def populate_list(length):\n",
        "  lst = []\n",
        "  for i in range(length):\n",
        "    lst.append(random.randint(10,50))\n",
        "    return lst"
      ],
      "metadata": {
        "id": "kxoKyaxbG_7Q"
      },
      "execution_count": 20,
      "outputs": []
    },
    {
      "cell_type": "code",
      "source": [
        "def sum_list(lst):\n",
        "  return sum(lst)"
      ],
      "metadata": {
        "id": "Y43P1bVmJMba"
      },
      "execution_count": 21,
      "outputs": []
    },
    {
      "cell_type": "code",
      "source": [
        "while True:\n",
        "    user_entry = int(input(\"Enter an integer between 5 and 15: \"))\n",
        "    if user_entry >= 5 and user_entry <= 15:\n",
        "        break"
      ],
      "metadata": {
        "colab": {
          "base_uri": "https://localhost:8080/"
        },
        "id": "6Jt-yKrEJShn",
        "outputId": "b5c9a59a-5186-4056-b5a6-ec0b634684b3"
      },
      "execution_count": 45,
      "outputs": [
        {
          "name": "stdout",
          "output_type": "stream",
          "text": [
            "Enter an integer between 5 and 15: 8\n"
          ]
        }
      ]
    },
    {
      "cell_type": "code",
      "source": [
        "random_lst = populate_list(user_entry)"
      ],
      "metadata": {
        "id": "h5zkvzQ3JiZk"
      },
      "execution_count": 51,
      "outputs": []
    },
    {
      "cell_type": "code",
      "source": [
        "print(\"The elements of the array are:\", end=\" \")\n",
        "for num in random_lst:\n",
        "    print(num, end=\" \")"
      ],
      "metadata": {
        "colab": {
          "base_uri": "https://localhost:8080/"
        },
        "id": "Wtz1GZ21MgcX",
        "outputId": "b7ee64fe-d015-476a-e746-5f09ab3b9b69"
      },
      "execution_count": 52,
      "outputs": [
        {
          "output_type": "stream",
          "name": "stdout",
          "text": [
            "The elements of the array are: 33 "
          ]
        }
      ]
    },
    {
      "cell_type": "code",
      "source": [
        "total_sum = sum_list(random_lst)"
      ],
      "metadata": {
        "id": "PayGJ0WOMkdO"
      },
      "execution_count": 53,
      "outputs": []
    },
    {
      "cell_type": "code",
      "source": [
        "print(\"\\nThe sum is:\", total_sum)"
      ],
      "metadata": {
        "colab": {
          "base_uri": "https://localhost:8080/"
        },
        "id": "OQwFb4X6MmYr",
        "outputId": "6886b0d0-6f80-4bd2-dc9f-59e8366fdf8b"
      },
      "execution_count": 54,
      "outputs": [
        {
          "output_type": "stream",
          "name": "stdout",
          "text": [
            "\n",
            "The sum is: 33\n"
          ]
        }
      ]
    }
  ]
}